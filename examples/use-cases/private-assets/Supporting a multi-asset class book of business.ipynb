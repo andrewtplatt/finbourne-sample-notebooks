{
 "cells": [
  {
   "cell_type": "code",
   "execution_count": 1,
   "metadata": {
    "pycharm": {
     "name": "#%%\n"
    }
   },
   "outputs": [
    {
     "data": {
      "text/html": [
       "\n",
       "    <form action=\"javascript:code_toggle()\"><input type=\"submit\" id=\"toggleButton\" value=\"Toggle Docstring\"></form>\n",
       "    \n",
       "         <script>\n",
       "         function code_toggle() {\n",
       "             if ($('div.cell.code_cell.rendered.selected div.input').css('display')!='none'){\n",
       "                 $('div.cell.code_cell.rendered.selected div.input').hide();\n",
       "             } else {\n",
       "                 $('div.cell.code_cell.rendered.selected div.input').show();\n",
       "             }\n",
       "         }\n",
       "         </script>\n",
       "\n",
       "     "
      ],
      "text/plain": [
       "<IPython.core.display.HTML object>"
      ]
     },
     "metadata": {},
     "output_type": "display_data"
    }
   ],
   "source": [
    "from lusidtools.jupyter_tools import toggle_code\n",
    "\n",
    "\"\"\"Bespoke asset classes\n",
    "\n",
    "Demonstration of how to create your own custom instrument inside LUSID, create a transaction against it and value it.\n",
    "\n",
    "Attributes\n",
    "----------\n",
    "instruments\n",
    "transactions\n",
    "properties\n",
    "quotes\n",
    "aggregation\n",
    "\"\"\"\n",
    "\n",
    "toggle_code(\"Toggle Docstring\")"
   ]
  },
  {
   "cell_type": "markdown",
   "metadata": {},
   "source": [
    "A common frustration with investment technology platforms is that there is always an asset class in the client security universe that is unsupported and requires bespoke handling.\n",
    "\n",
    "For most institutions, trading in new asset classes is restricted until a front-to-back technology solution is built to support them.\n",
    "\n",
    "Fortunately, LUSID was designed with this ability in mind.\n",
    "\n",
    "Using LUSID you can easily create bespoke assets. This is ideal for alternative investments such as complex derivatives, loan products or even purchases of real estate (which we’ll use in this example).\n",
    "In this notebook you will learn how to create your own custom instrument inside LUSID, create a transaction against it to add it to a portfolio and finally value it.\n",
    "\n",
    "*First of all, run the cell below to initialise LUSID and import the relevant libraries*"
   ]
  },
  {
   "cell_type": "code",
   "execution_count": 2,
   "metadata": {},
   "outputs": [
    {
     "name": "stdout",
     "output_type": "stream",
     "text": [
      "LUSID Environment Initialised\n",
      "LUSID SDK Version:  0.0.1.0\n"
     ]
    }
   ],
   "source": [
    "# Import LUSID\n",
    "import lusid.models as models\n",
    "import lusid\n",
    "import lusid_sample_data as import_data\n",
    "from lusidjam import RefreshingToken\n",
    "\n",
    "# Import Libraries\n",
    "import pprint\n",
    "from datetime import datetime, timedelta, time\n",
    "import pytz\n",
    "import printer as prettyprint\n",
    "import pandas as pd\n",
    "import numpy as np\n",
    "import json\n",
    "import uuid\n",
    "import os\n",
    "\n",
    "# Authenticate our user and create our API client\n",
    "secrets_path = os.getenv(\"FBN_SECRETS_PATH\")\n",
    "\n",
    "api_factory = lusid.utilities.ApiClientFactory(\n",
    "    token=RefreshingToken(),\n",
    "    api_secrets_filename=secrets_path,\n",
    "    app_name=\"LusidJupyterNotebook\",\n",
    ")\n",
    "\n",
    "print(\"LUSID Environment Initialised\")\n",
    "print(\n",
    "    \"LUSID SDK Version: \",\n",
    "    api_factory.build(lusid.api.ApplicationMetadataApi)\n",
    "    .get_lusid_versions()\n",
    "    .build_version,\n",
    ")"
   ]
  },
  {
   "cell_type": "markdown",
   "metadata": {},
   "source": [
    "![Scopes](img/paper-lusid.gif)"
   ]
  },
  {
   "cell_type": "markdown",
   "metadata": {},
   "source": [
    "In LUSID you can create separate environments using scopes. A scope is a container for LUSID objects and can be thought of as a separate identity namespace. Using LUSID's entitlements engine you can ensure that a user can only interact with objects inside their scope. Furthermore no other stakeholder inside the organisation can access this scope unless explicitly given permission. \n",
    "\n",
    "For this example you will create a scope to hold your commercial real estate assets.\n",
    "\n",
    "*Run the cell below to initialise your scope. Note that the scope will have a unique 4 character code appended to it to make the name more unique.*"
   ]
  },
  {
   "cell_type": "code",
   "execution_count": 3,
   "metadata": {},
   "outputs": [
    {
     "name": "stdout",
     "output_type": "stream",
     "text": [
      "\u001b[1mScope: \u001b[0mCommercial-Real-Estate-3b23-0554-3a58-2c\n"
     ]
    }
   ],
   "source": [
    "scope = \"Commercial-Real-Estate-\" + import_data.create_scope_id()\n",
    "prettyprint.heading(\"Scope\", scope)"
   ]
  },
  {
   "cell_type": "markdown",
   "metadata": {},
   "source": [
    "![Scopes](img/complexinstruments-scope.gif)"
   ]
  },
  {
   "cell_type": "markdown",
   "metadata": {},
   "source": [
    "Now that you have a scope you can create your custom asset. In this situation you have just purchased a shopping centre in Sydney. You have some of the important details of the asset in a small JSON file. You haven't been able to enter this into your internal systems (yet) as there are no fields available for some of the more specific information such as the average retail lease. \n",
    "\n",
    "With LUSID you can create an instrument for this asset and attach all of this information to it without any modification.\n",
    "\n",
    "*Run the cell below to upsert the instrument into LUSID with the attached bespoke information*"
   ]
  },
  {
   "cell_type": "code",
   "execution_count": 4,
   "metadata": {},
   "outputs": [
    {
     "name": "stdout",
     "output_type": "stream",
     "text": [
      "\u001b[91m\u001b[1mInstruments Successfully Upserted: \u001b[0m\n"
     ]
    },
    {
     "data": {
      "text/html": [
       "<div>\n",
       "<style scoped>\n",
       "    .dataframe tbody tr th:only-of-type {\n",
       "        vertical-align: middle;\n",
       "    }\n",
       "\n",
       "    .dataframe tbody tr th {\n",
       "        vertical-align: top;\n",
       "    }\n",
       "\n",
       "    .dataframe thead th {\n",
       "        text-align: right;\n",
       "    }\n",
       "</style>\n",
       "<table border=\"1\" class=\"dataframe\">\n",
       "  <thead>\n",
       "    <tr style=\"text-align: right;\">\n",
       "      <th></th>\n",
       "      <th>Instrument</th>\n",
       "      <th>ClientInternal ID</th>\n",
       "      <th>LUSID Instrument ID</th>\n",
       "    </tr>\n",
       "  </thead>\n",
       "  <tbody>\n",
       "    <tr>\n",
       "      <th>0</th>\n",
       "      <td>shopping_centre</td>\n",
       "      <td>SYD_241232</td>\n",
       "      <td>LUID_00003D4V</td>\n",
       "    </tr>\n",
       "  </tbody>\n",
       "</table>\n",
       "</div>"
      ],
      "text/plain": [
       "        Instrument ClientInternal ID LUSID Instrument ID\n",
       "0  shopping_centre        SYD_241232       LUID_00003D4V"
      ]
     },
     "execution_count": 4,
     "metadata": {},
     "output_type": "execute_result"
    }
   ],
   "source": [
    "# Create the bespoke hedge contract definition\n",
    "shopping_centre_asset = {\n",
    "    \"identifier\": \"SYD_241232\",\n",
    "    \"no_units\": 76,\n",
    "    \"average_retail_lease\": \"2.3 years\",\n",
    "    \"term\": \"5yr\",\n",
    "    \"freq\": \"Quarterly\",\n",
    "    \"rating\": \"B1\",\n",
    "}\n",
    "\n",
    "# Create the definition for your instrument, attaching the bespoke contract\n",
    "shopping_centre_asset_instrument = models.InstrumentDefinition(\n",
    "    name=\"Sydney_Bondi_Junc_Westfield\",\n",
    "    identifiers={\n",
    "        \"ClientInternal\": models.InstrumentIdValue(\n",
    "            value=shopping_centre_asset[\"identifier\"]\n",
    "        )\n",
    "    },\n",
    "    definition=models.ExoticInstrument(\n",
    "        instrument_format=models.InstrumentDefinitionFormat(\n",
    "            source_system=\"ClientSystemA\", vendor=\"ClientA\", version=\"0.0.1\"\n",
    "        ),\n",
    "        content=json.dumps(shopping_centre_asset),\n",
    "        instrument_type=\"ExoticInstrument\",\n",
    "    ),\n",
    ")\n",
    "\n",
    "response = api_factory.build(lusid.api.InstrumentsApi).upsert_instruments(\n",
    "    request_body={\"shopping_centre\": shopping_centre_asset_instrument}\n",
    ")\n",
    "\n",
    "prettyprint.instrument_response(response)"
   ]
  },
  {
   "cell_type": "markdown",
   "metadata": {},
   "source": [
    "![Scopes](img/complexinstruments-instrumentmaster.gif)"
   ]
  },
  {
   "cell_type": "markdown",
   "metadata": {},
   "source": [
    "You can check that the instrument has been created in your instrument master inside LUSID by retrieving it. \n",
    "\n",
    "*Run the cell below to get the instrument from the instrument master*"
   ]
  },
  {
   "cell_type": "code",
   "execution_count": 5,
   "metadata": {},
   "outputs": [
    {
     "name": "stdout",
     "output_type": "stream",
     "text": [
      "Instrument Name: Sydney_Bondi_Junc_Westfield\n",
      " ClientInternal: SYD_241232\n",
      " Lusid Instrument ID: LUID_00003D4V\n",
      " Instrument Definition:\n",
      "{\"identifier\": \"SYD_241232\", \"no_units\": 76, \"average_retail_lease\": \"2.3 years\", \"term\": \"5yr\", \"freq\": \"Quarterly\", \"rating\": \"B1\"}\n"
     ]
    }
   ],
   "source": [
    "response = api_factory.build(lusid.api.InstrumentsApi).get_instrument(\n",
    "    identifier_type=\"ClientInternal\", identifier=shopping_centre_asset[\"identifier\"]\n",
    ")\n",
    "\n",
    "# Print the response\n",
    "print(\n",
    "    \"Instrument Name: \" + response.name + \"\\n\",\n",
    "    \"ClientInternal: \" + response.identifiers[\"ClientInternal\"] + \"\\n\",\n",
    "    \"Lusid Instrument ID: \" + response.lusid_instrument_id + \"\\n\",\n",
    "    \"Instrument Definition:\" + \"\\n\" + response.instrument_definition.content,\n",
    ")\n",
    "\n",
    "luid = response.lusid_instrument_id"
   ]
  },
  {
   "cell_type": "markdown",
   "metadata": {},
   "source": [
    "Now that you've created the instrument, it would be great if you could split out some of the properties such as the average retail lease into a more structured schema so that you can access it more easily, search by it etc.\n",
    "\n",
    "In LUSID you have complete control over the schema you'd like to set up for your instruments. In this case you can take each bit of important information from the details about the asset and create properties for them.\n",
    "\n",
    "Unlike the unstructured instrument definition, these properties have a defined data type, and you can enforce different types of validation on them.\n",
    "\n",
    "*Run the cell below to extract the important details from the assets definition and create them as properties with a defined data type*"
   ]
  },
  {
   "cell_type": "code",
   "execution_count": 6,
   "metadata": {},
   "outputs": [
    {
     "name": "stdout",
     "output_type": "stream",
     "text": [
      "\u001b[1midentifier Property Key: \u001b[0mInstrument/Commercial-Real-Estate-3b23-0554-3a58-2c/identifier\n",
      "\u001b[1mno_units Property Key: \u001b[0mInstrument/Commercial-Real-Estate-3b23-0554-3a58-2c/no_units\n",
      "\u001b[1maverage_retail_lease Property Key: \u001b[0mInstrument/Commercial-Real-Estate-3b23-0554-3a58-2c/average_retail_lease\n",
      "\u001b[1mterm Property Key: \u001b[0mInstrument/Commercial-Real-Estate-3b23-0554-3a58-2c/term\n",
      "\u001b[1mfreq Property Key: \u001b[0mInstrument/Commercial-Real-Estate-3b23-0554-3a58-2c/freq\n",
      "\u001b[1mrating Property Key: \u001b[0mInstrument/Commercial-Real-Estate-3b23-0554-3a58-2c/rating\n"
     ]
    }
   ],
   "source": [
    "properties = []\n",
    "property_keys = {}\n",
    "\n",
    "for key, value in shopping_centre_asset.items():\n",
    "\n",
    "    if type(value) in [\"int\", \"float\"]:\n",
    "        data_type = \"number\"\n",
    "        property_value = models.PropertyValue(\n",
    "            metric_value=models.MetricValue(value=value)\n",
    "        )\n",
    "\n",
    "    else:\n",
    "        data_type = \"string\"\n",
    "        property_value = models.PropertyValue(label_value=value)\n",
    "\n",
    "    # Create your request to define a new property\n",
    "    property_request = models.CreatePropertyDefinitionRequest(\n",
    "        domain=\"Instrument\",\n",
    "        scope=scope,\n",
    "        code=key,\n",
    "        value_required=False,\n",
    "        display_name=key,\n",
    "        data_type_id=models.ResourceId(scope=\"system\", code=data_type),\n",
    "    )\n",
    "\n",
    "    # Call LUSID to create uour new property\n",
    "    response = api_factory.build(\n",
    "        lusid.api.PropertyDefinitionsApi\n",
    "    ).create_property_definition(create_property_definition_request=property_request)\n",
    "\n",
    "    # Grab the key off the response to use when referencing this property in other LUSID calls\n",
    "    property_key = response.key\n",
    "\n",
    "    property_keys[key] = property_key\n",
    "\n",
    "    # Pretty print your key\n",
    "    prettyprint.heading(\"{} Property Key\".format(key), property_key)\n",
    "\n",
    "    properties.append(models.ModelProperty(key=property_key, value=property_value))\n",
    "\n",
    "# Call the LUSID API to add our property across all instruments\n",
    "response = api_factory.build(lusid.api.InstrumentsApi).upsert_instruments_properties(\n",
    "    upsert_instrument_property_request=[\n",
    "        models.UpsertInstrumentPropertyRequest(\n",
    "            identifier_type=\"LusidInstrumentId\", identifier=luid, properties=properties\n",
    "        )\n",
    "    ]\n",
    ")"
   ]
  },
  {
   "cell_type": "markdown",
   "metadata": {},
   "source": [
    "Now that you've created these properties, they can be used for similar instruments. You can pull the relevant properties off each instrument with ease now. For example perhaps you are only interested in the rating and the term of this particular piece of commerial real estate.\n",
    "\n",
    "*Run the cell below to pick off the relevant properties for your instrument*"
   ]
  },
  {
   "cell_type": "code",
   "execution_count": 7,
   "metadata": {},
   "outputs": [
    {
     "name": "stdout",
     "output_type": "stream",
     "text": [
      "Instrument Name: Sydney_Bondi_Junc_Westfield\n",
      " ClientInternal ID: SYD_241232\n",
      " Lusid Instrument ID: LUID_00003D4V\n",
      " term: 5yr\n",
      " rating: B1\n"
     ]
    }
   ],
   "source": [
    "response = api_factory.build(lusid.api.InstrumentsApi).get_instrument(\n",
    "    identifier_type=\"ClientInternal\",\n",
    "    identifier=shopping_centre_asset[\"identifier\"],\n",
    "    property_keys=[property_keys[\"rating\"], property_keys[\"term\"]],\n",
    ")\n",
    "\n",
    "# Print the response\n",
    "print(\n",
    "    \"Instrument Name: \" + response.name + \"\\n\",\n",
    "    \"ClientInternal ID: \" + response.identifiers[\"ClientInternal\"] + \"\\n\",\n",
    "    \"Lusid Instrument ID: \" + response.lusid_instrument_id,\n",
    ")\n",
    "\n",
    "for property in response.properties:\n",
    "    print(\" {}: \".format(property.key.split(\"/\")[2]) + property.value.label_value)"
   ]
  },
  {
   "cell_type": "markdown",
   "metadata": {},
   "source": [
    "Now that you've created the instrument with its entire definition attached, as well as creating custom properties to more easily access the important information, you can hold this instrument in a portfolio.\n",
    "\n",
    "In this case let's create a new portolio to hold the asset.\n",
    "\n",
    "*Run the cell below to create a portfolio*"
   ]
  },
  {
   "cell_type": "code",
   "execution_count": 8,
   "metadata": {},
   "outputs": [
    {
     "ename": "ApiException",
     "evalue": "(400)\nReason: Bad Request\nHTTP response headers: HTTPHeaderDict({'Content-Type': 'application/problem+json', 'Date': 'Fri, 30 Sep 2022 15:49:12 GMT', 'Server': 'Kestrel', 'Transfer-Encoding': 'chunked', 'lusid-meta-success': 'False', 'lusid-meta-requestId': '0HML2VD5268R7:0000000D', 'lusid-meta-correlationId': '0HML2VD5268R7:0000000D', 'lusid-meta-duration': '759'})\nHTTP response body: {\"name\":\"UndefinedCurrencyFailure\",\"errorDetails\":[{\"id\":\"CreateTransactionPortfolioRequest.BaseCurrency\",\"detail\":\"Undefined currency: AUD\"}],\"code\":407,\"errors\":{\"CreateTransactionPortfolioRequest.BaseCurrency\":[\"Undefined currency: AUD\"]},\"type\":\"https://docs.lusid.com/#section/Error-Codes/407\",\"title\":\"The following currencies are undefined: AUD\",\"status\":400,\"detail\":\"Please refer to the documentation on how to define a Currency\",\"instance\":\"https://localhost.lusid.com/app/insights/logs/0HML2VD5268R7:0000000D\",\"extensions\":{}}\n",
     "output_type": "error",
     "traceback": [
      "\u001b[0;31m---------------------------------------------------------------------------\u001b[0m",
      "\u001b[0;31mApiException\u001b[0m                              Traceback (most recent call last)",
      "Cell \u001b[0;32mIn [8], line 16\u001b[0m\n\u001b[1;32m      7\u001b[0m transaction_portfolio_request \u001b[38;5;241m=\u001b[39m models\u001b[38;5;241m.\u001b[39mCreateTransactionPortfolioRequest(\n\u001b[1;32m      8\u001b[0m     display_name\u001b[38;5;241m=\u001b[39m\u001b[38;5;124m\"\u001b[39m\u001b[38;5;124mCommercialRealEstate\u001b[39m\u001b[38;5;124m\"\u001b[39m,\n\u001b[1;32m      9\u001b[0m     code\u001b[38;5;241m=\u001b[39mportfolio_code,\n\u001b[0;32m   (...)\u001b[0m\n\u001b[1;32m     12\u001b[0m     created\u001b[38;5;241m=\u001b[39mportfolio_creation_date,\n\u001b[1;32m     13\u001b[0m )\n\u001b[1;32m     15\u001b[0m \u001b[38;5;66;03m# Call LUSID to create our portfolio\u001b[39;00m\n\u001b[0;32m---> 16\u001b[0m portfolio_response \u001b[38;5;241m=\u001b[39m \u001b[43mapi_factory\u001b[49m\u001b[38;5;241;43m.\u001b[39;49m\u001b[43mbuild\u001b[49m\u001b[43m(\u001b[49m\n\u001b[1;32m     17\u001b[0m \u001b[43m    \u001b[49m\u001b[43mlusid\u001b[49m\u001b[38;5;241;43m.\u001b[39;49m\u001b[43mapi\u001b[49m\u001b[38;5;241;43m.\u001b[39;49m\u001b[43mTransactionPortfoliosApi\u001b[49m\n\u001b[1;32m     18\u001b[0m \u001b[43m)\u001b[49m\u001b[38;5;241;43m.\u001b[39;49m\u001b[43mcreate_portfolio\u001b[49m\u001b[43m(\u001b[49m\n\u001b[1;32m     19\u001b[0m \u001b[43m    \u001b[49m\u001b[43mscope\u001b[49m\u001b[38;5;241;43m=\u001b[39;49m\u001b[43mscope\u001b[49m\u001b[43m,\u001b[49m\u001b[43m \u001b[49m\u001b[43mcreate_transaction_portfolio_request\u001b[49m\u001b[38;5;241;43m=\u001b[39;49m\u001b[43mtransaction_portfolio_request\u001b[49m\n\u001b[1;32m     20\u001b[0m \u001b[43m)\u001b[49m\n\u001b[1;32m     22\u001b[0m \u001b[38;5;66;03m# Pretty print the response from LUSID\u001b[39;00m\n\u001b[1;32m     23\u001b[0m prettyprint\u001b[38;5;241m.\u001b[39mportfolio_response(portfolio_response)\n",
      "File \u001b[0;32m~/Work/sample-notebooks/.env/lib/python3.10/site-packages/lusid/utilities/lusid_retry.py:22\u001b[0m, in \u001b[0;36mlusidretry.<locals>.__retry\u001b[0;34m(*args, **kwargs)\u001b[0m\n\u001b[1;32m     20\u001b[0m \u001b[39mwhile\u001b[39;00m tries \u001b[39m<\u001b[39m retries\u001b[39m+\u001b[39m\u001b[39m1\u001b[39m:\n\u001b[1;32m     21\u001b[0m     \u001b[39mtry\u001b[39;00m:\n\u001b[0;32m---> 22\u001b[0m         \u001b[39mreturn\u001b[39;00m fn(\u001b[39m*\u001b[39;49margs, \u001b[39m*\u001b[39;49m\u001b[39m*\u001b[39;49mkwargs)\n\u001b[1;32m     23\u001b[0m     \u001b[39mexcept\u001b[39;00m ApiException \u001b[39mas\u001b[39;00m ex:\n\u001b[1;32m     25\u001b[0m         tries \u001b[39m+\u001b[39m\u001b[39m=\u001b[39m \u001b[39m1\u001b[39m\n",
      "File \u001b[0;32m~/Work/sample-notebooks/.env/lib/python3.10/site-packages/lusid/utilities/api_client_factory.py:110\u001b[0m, in \u001b[0;36mApiClientFactory.build.<locals>.get_attribute_impl.<locals>.wrapper\u001b[0;34m(*args, **kwargs)\u001b[0m\n\u001b[1;32m    107\u001b[0m     \u001b[39mreturn\u001b[39;00m result[\u001b[39m0\u001b[39m]\n\u001b[1;32m    109\u001b[0m \u001b[39melse\u001b[39;00m:\n\u001b[0;32m--> 110\u001b[0m     \u001b[39mreturn\u001b[39;00m attr(\u001b[39m*\u001b[39;49margs, \u001b[39m*\u001b[39;49m\u001b[39m*\u001b[39;49mkwargs)\n",
      "File \u001b[0;32m~/Work/sample-notebooks/.env/lib/python3.10/site-packages/lusid/api/transaction_portfolios_api.py:874\u001b[0m, in \u001b[0;36mTransactionPortfoliosApi.create_portfolio\u001b[0;34m(self, scope, create_transaction_portfolio_request, **kwargs)\u001b[0m\n\u001b[1;32m    845\u001b[0m \u001b[39m\"\"\"CreatePortfolio: Create portfolio  # noqa: E501\u001b[39;00m\n\u001b[1;32m    846\u001b[0m \n\u001b[1;32m    847\u001b[0m \u001b[39mCreate a transaction portfolio in a particular scope.  # noqa: E501\u001b[39;00m\n\u001b[0;32m   (...)\u001b[0m\n\u001b[1;32m    871\u001b[0m \u001b[39m:rtype: Portfolio\u001b[39;00m\n\u001b[1;32m    872\u001b[0m \u001b[39m\"\"\"\u001b[39;00m\n\u001b[1;32m    873\u001b[0m kwargs[\u001b[39m'\u001b[39m\u001b[39m_return_http_data_only\u001b[39m\u001b[39m'\u001b[39m] \u001b[39m=\u001b[39m \u001b[39mTrue\u001b[39;00m\n\u001b[0;32m--> 874\u001b[0m \u001b[39mreturn\u001b[39;00m \u001b[39mself\u001b[39;49m\u001b[39m.\u001b[39;49mcreate_portfolio_with_http_info(scope, create_transaction_portfolio_request, \u001b[39m*\u001b[39;49m\u001b[39m*\u001b[39;49mkwargs)\n",
      "File \u001b[0;32m~/Work/sample-notebooks/.env/lib/python3.10/site-packages/lusid/utilities/lusid_retry.py:22\u001b[0m, in \u001b[0;36mlusidretry.<locals>.__retry\u001b[0;34m(*args, **kwargs)\u001b[0m\n\u001b[1;32m     20\u001b[0m \u001b[39mwhile\u001b[39;00m tries \u001b[39m<\u001b[39m retries\u001b[39m+\u001b[39m\u001b[39m1\u001b[39m:\n\u001b[1;32m     21\u001b[0m     \u001b[39mtry\u001b[39;00m:\n\u001b[0;32m---> 22\u001b[0m         \u001b[39mreturn\u001b[39;00m fn(\u001b[39m*\u001b[39;49margs, \u001b[39m*\u001b[39;49m\u001b[39m*\u001b[39;49mkwargs)\n\u001b[1;32m     23\u001b[0m     \u001b[39mexcept\u001b[39;00m ApiException \u001b[39mas\u001b[39;00m ex:\n\u001b[1;32m     25\u001b[0m         tries \u001b[39m+\u001b[39m\u001b[39m=\u001b[39m \u001b[39m1\u001b[39m\n",
      "File \u001b[0;32m~/Work/sample-notebooks/.env/lib/python3.10/site-packages/lusid/utilities/api_client_factory.py:110\u001b[0m, in \u001b[0;36mApiClientFactory.build.<locals>.get_attribute_impl.<locals>.wrapper\u001b[0;34m(*args, **kwargs)\u001b[0m\n\u001b[1;32m    107\u001b[0m     \u001b[39mreturn\u001b[39;00m result[\u001b[39m0\u001b[39m]\n\u001b[1;32m    109\u001b[0m \u001b[39melse\u001b[39;00m:\n\u001b[0;32m--> 110\u001b[0m     \u001b[39mreturn\u001b[39;00m attr(\u001b[39m*\u001b[39;49margs, \u001b[39m*\u001b[39;49m\u001b[39m*\u001b[39;49mkwargs)\n",
      "File \u001b[0;32m~/Work/sample-notebooks/.env/lib/python3.10/site-packages/lusid/api/transaction_portfolios_api.py:989\u001b[0m, in \u001b[0;36mTransactionPortfoliosApi.create_portfolio_with_http_info\u001b[0;34m(self, scope, create_transaction_portfolio_request, **kwargs)\u001b[0m\n\u001b[1;32m    982\u001b[0m auth_settings \u001b[39m=\u001b[39m [\u001b[39m'\u001b[39m\u001b[39moauth2\u001b[39m\u001b[39m'\u001b[39m]  \u001b[39m# noqa: E501\u001b[39;00m\n\u001b[1;32m    984\u001b[0m response_types_map \u001b[39m=\u001b[39m {\n\u001b[1;32m    985\u001b[0m     \u001b[39m201\u001b[39m: \u001b[39m\"\u001b[39m\u001b[39mPortfolio\u001b[39m\u001b[39m\"\u001b[39m,\n\u001b[1;32m    986\u001b[0m     \u001b[39m400\u001b[39m: \u001b[39m\"\u001b[39m\u001b[39mLusidValidationProblemDetails\u001b[39m\u001b[39m\"\u001b[39m,\n\u001b[1;32m    987\u001b[0m }\n\u001b[0;32m--> 989\u001b[0m \u001b[39mreturn\u001b[39;00m \u001b[39mself\u001b[39;49m\u001b[39m.\u001b[39;49mapi_client\u001b[39m.\u001b[39;49mcall_api(\n\u001b[1;32m    990\u001b[0m     \u001b[39m'\u001b[39;49m\u001b[39m/api/transactionportfolios/\u001b[39;49m\u001b[39m{scope}\u001b[39;49;00m\u001b[39m'\u001b[39;49m, \u001b[39m'\u001b[39;49m\u001b[39mPOST\u001b[39;49m\u001b[39m'\u001b[39;49m,\n\u001b[1;32m    991\u001b[0m     path_params,\n\u001b[1;32m    992\u001b[0m     query_params,\n\u001b[1;32m    993\u001b[0m     header_params,\n\u001b[1;32m    994\u001b[0m     body\u001b[39m=\u001b[39;49mbody_params,\n\u001b[1;32m    995\u001b[0m     post_params\u001b[39m=\u001b[39;49mform_params,\n\u001b[1;32m    996\u001b[0m     files\u001b[39m=\u001b[39;49mlocal_var_files,\n\u001b[1;32m    997\u001b[0m     response_types_map\u001b[39m=\u001b[39;49mresponse_types_map,\n\u001b[1;32m    998\u001b[0m     auth_settings\u001b[39m=\u001b[39;49mauth_settings,\n\u001b[1;32m    999\u001b[0m     async_req\u001b[39m=\u001b[39;49mlocal_var_params\u001b[39m.\u001b[39;49mget(\u001b[39m'\u001b[39;49m\u001b[39masync_req\u001b[39;49m\u001b[39m'\u001b[39;49m),\n\u001b[1;32m   1000\u001b[0m     _return_http_data_only\u001b[39m=\u001b[39;49mlocal_var_params\u001b[39m.\u001b[39;49mget(\u001b[39m'\u001b[39;49m\u001b[39m_return_http_data_only\u001b[39;49m\u001b[39m'\u001b[39;49m),  \u001b[39m# noqa: E501\u001b[39;49;00m\n\u001b[1;32m   1001\u001b[0m     _preload_content\u001b[39m=\u001b[39;49mlocal_var_params\u001b[39m.\u001b[39;49mget(\u001b[39m'\u001b[39;49m\u001b[39m_preload_content\u001b[39;49m\u001b[39m'\u001b[39;49m, \u001b[39mTrue\u001b[39;49;00m),\n\u001b[1;32m   1002\u001b[0m     _request_timeout\u001b[39m=\u001b[39;49mlocal_var_params\u001b[39m.\u001b[39;49mget(\u001b[39m'\u001b[39;49m\u001b[39m_request_timeout\u001b[39;49m\u001b[39m'\u001b[39;49m),\n\u001b[1;32m   1003\u001b[0m     collection_formats\u001b[39m=\u001b[39;49mcollection_formats,\n\u001b[1;32m   1004\u001b[0m     _request_auth\u001b[39m=\u001b[39;49mlocal_var_params\u001b[39m.\u001b[39;49mget(\u001b[39m'\u001b[39;49m\u001b[39m_request_auth\u001b[39;49m\u001b[39m'\u001b[39;49m))\n",
      "File \u001b[0;32m~/Work/sample-notebooks/.env/lib/python3.10/site-packages/lusid/api_client.py:375\u001b[0m, in \u001b[0;36mApiClient.call_api\u001b[0;34m(self, resource_path, method, path_params, query_params, header_params, body, post_params, files, response_types_map, auth_settings, async_req, _return_http_data_only, collection_formats, _preload_content, _request_timeout, _host, _request_auth)\u001b[0m\n\u001b[1;32m    334\u001b[0m \u001b[39m\"\"\"Makes the HTTP request (synchronous) and returns deserialized data.\u001b[39;00m\n\u001b[1;32m    335\u001b[0m \n\u001b[1;32m    336\u001b[0m \u001b[39mTo make an async_req request, set the async_req parameter.\u001b[39;00m\n\u001b[0;32m   (...)\u001b[0m\n\u001b[1;32m    372\u001b[0m \u001b[39m    then the method will return the response directly.\u001b[39;00m\n\u001b[1;32m    373\u001b[0m \u001b[39m\"\"\"\u001b[39;00m\n\u001b[1;32m    374\u001b[0m \u001b[39mif\u001b[39;00m \u001b[39mnot\u001b[39;00m async_req:\n\u001b[0;32m--> 375\u001b[0m     \u001b[39mreturn\u001b[39;00m \u001b[39mself\u001b[39;49m\u001b[39m.\u001b[39;49m__call_api(resource_path, method,\n\u001b[1;32m    376\u001b[0m                            path_params, query_params, header_params,\n\u001b[1;32m    377\u001b[0m                            body, post_params, files,\n\u001b[1;32m    378\u001b[0m                            response_types_map, auth_settings,\n\u001b[1;32m    379\u001b[0m                            _return_http_data_only, collection_formats,\n\u001b[1;32m    380\u001b[0m                            _preload_content, _request_timeout, _host,\n\u001b[1;32m    381\u001b[0m                            _request_auth)\n\u001b[1;32m    383\u001b[0m \u001b[39mreturn\u001b[39;00m \u001b[39mself\u001b[39m\u001b[39m.\u001b[39mpool\u001b[39m.\u001b[39mapply_async(\u001b[39mself\u001b[39m\u001b[39m.\u001b[39m__call_api, (resource_path,\n\u001b[1;32m    384\u001b[0m                                                method, path_params,\n\u001b[1;32m    385\u001b[0m                                                query_params,\n\u001b[0;32m   (...)\u001b[0m\n\u001b[1;32m    393\u001b[0m                                                _request_timeout,\n\u001b[1;32m    394\u001b[0m                                                _host, _request_auth))\n",
      "File \u001b[0;32m~/Work/sample-notebooks/.env/lib/python3.10/site-packages/lusid/api_client.py:192\u001b[0m, in \u001b[0;36mApiClient.__call_api\u001b[0;34m(self, resource_path, method, path_params, query_params, header_params, body, post_params, files, response_types_map, auth_settings, _return_http_data_only, collection_formats, _preload_content, _request_timeout, _host, _request_auth)\u001b[0m\n\u001b[1;32m    190\u001b[0m \u001b[39mexcept\u001b[39;00m ApiException \u001b[39mas\u001b[39;00m e:\n\u001b[1;32m    191\u001b[0m     e\u001b[39m.\u001b[39mbody \u001b[39m=\u001b[39m e\u001b[39m.\u001b[39mbody\u001b[39m.\u001b[39mdecode(\u001b[39m'\u001b[39m\u001b[39mutf-8\u001b[39m\u001b[39m'\u001b[39m) \u001b[39mif\u001b[39;00m six\u001b[39m.\u001b[39mPY3 \u001b[39melse\u001b[39;00m e\u001b[39m.\u001b[39mbody\n\u001b[0;32m--> 192\u001b[0m     \u001b[39mraise\u001b[39;00m e\n\u001b[1;32m    194\u001b[0m \u001b[39mself\u001b[39m\u001b[39m.\u001b[39mlast_response \u001b[39m=\u001b[39m response_data\n\u001b[1;32m    196\u001b[0m return_data \u001b[39m=\u001b[39m response_data\n",
      "File \u001b[0;32m~/Work/sample-notebooks/.env/lib/python3.10/site-packages/lusid/api_client.py:185\u001b[0m, in \u001b[0;36mApiClient.__call_api\u001b[0;34m(self, resource_path, method, path_params, query_params, header_params, body, post_params, files, response_types_map, auth_settings, _return_http_data_only, collection_formats, _preload_content, _request_timeout, _host, _request_auth)\u001b[0m\n\u001b[1;32m    181\u001b[0m     url \u001b[39m=\u001b[39m _host \u001b[39m+\u001b[39m resource_path\n\u001b[1;32m    183\u001b[0m \u001b[39mtry\u001b[39;00m:\n\u001b[1;32m    184\u001b[0m     \u001b[39m# perform request and return response\u001b[39;00m\n\u001b[0;32m--> 185\u001b[0m     response_data \u001b[39m=\u001b[39m \u001b[39mself\u001b[39;49m\u001b[39m.\u001b[39;49mrequest(\n\u001b[1;32m    186\u001b[0m         method, url, query_params\u001b[39m=\u001b[39;49mquery_params, headers\u001b[39m=\u001b[39;49mheader_params,\n\u001b[1;32m    187\u001b[0m         post_params\u001b[39m=\u001b[39;49mpost_params, body\u001b[39m=\u001b[39;49mbody,\n\u001b[1;32m    188\u001b[0m         _preload_content\u001b[39m=\u001b[39;49m_preload_content,\n\u001b[1;32m    189\u001b[0m         _request_timeout\u001b[39m=\u001b[39;49m_request_timeout)\n\u001b[1;32m    190\u001b[0m \u001b[39mexcept\u001b[39;00m ApiException \u001b[39mas\u001b[39;00m e:\n\u001b[1;32m    191\u001b[0m     e\u001b[39m.\u001b[39mbody \u001b[39m=\u001b[39m e\u001b[39m.\u001b[39mbody\u001b[39m.\u001b[39mdecode(\u001b[39m'\u001b[39m\u001b[39mutf-8\u001b[39m\u001b[39m'\u001b[39m) \u001b[39mif\u001b[39;00m six\u001b[39m.\u001b[39mPY3 \u001b[39melse\u001b[39;00m e\u001b[39m.\u001b[39mbody\n",
      "File \u001b[0;32m~/Work/sample-notebooks/.env/lib/python3.10/site-packages/lusid/api_client.py:419\u001b[0m, in \u001b[0;36mApiClient.request\u001b[0;34m(self, method, url, query_params, headers, post_params, body, _preload_content, _request_timeout)\u001b[0m\n\u001b[1;32m    413\u001b[0m     \u001b[39mreturn\u001b[39;00m \u001b[39mself\u001b[39m\u001b[39m.\u001b[39mrest_client\u001b[39m.\u001b[39mOPTIONS(url,\n\u001b[1;32m    414\u001b[0m                                     query_params\u001b[39m=\u001b[39mquery_params,\n\u001b[1;32m    415\u001b[0m                                     headers\u001b[39m=\u001b[39mheaders,\n\u001b[1;32m    416\u001b[0m                                     _preload_content\u001b[39m=\u001b[39m_preload_content,\n\u001b[1;32m    417\u001b[0m                                     _request_timeout\u001b[39m=\u001b[39m_request_timeout)\n\u001b[1;32m    418\u001b[0m \u001b[39melif\u001b[39;00m method \u001b[39m==\u001b[39m \u001b[39m\"\u001b[39m\u001b[39mPOST\u001b[39m\u001b[39m\"\u001b[39m:\n\u001b[0;32m--> 419\u001b[0m     \u001b[39mreturn\u001b[39;00m \u001b[39mself\u001b[39;49m\u001b[39m.\u001b[39;49mrest_client\u001b[39m.\u001b[39;49mPOST(url,\n\u001b[1;32m    420\u001b[0m                                  query_params\u001b[39m=\u001b[39;49mquery_params,\n\u001b[1;32m    421\u001b[0m                                  headers\u001b[39m=\u001b[39;49mheaders,\n\u001b[1;32m    422\u001b[0m                                  post_params\u001b[39m=\u001b[39;49mpost_params,\n\u001b[1;32m    423\u001b[0m                                  _preload_content\u001b[39m=\u001b[39;49m_preload_content,\n\u001b[1;32m    424\u001b[0m                                  _request_timeout\u001b[39m=\u001b[39;49m_request_timeout,\n\u001b[1;32m    425\u001b[0m                                  body\u001b[39m=\u001b[39;49mbody)\n\u001b[1;32m    426\u001b[0m \u001b[39melif\u001b[39;00m method \u001b[39m==\u001b[39m \u001b[39m\"\u001b[39m\u001b[39mPUT\u001b[39m\u001b[39m\"\u001b[39m:\n\u001b[1;32m    427\u001b[0m     \u001b[39mreturn\u001b[39;00m \u001b[39mself\u001b[39m\u001b[39m.\u001b[39mrest_client\u001b[39m.\u001b[39mPUT(url,\n\u001b[1;32m    428\u001b[0m                                 query_params\u001b[39m=\u001b[39mquery_params,\n\u001b[1;32m    429\u001b[0m                                 headers\u001b[39m=\u001b[39mheaders,\n\u001b[0;32m   (...)\u001b[0m\n\u001b[1;32m    432\u001b[0m                                 _request_timeout\u001b[39m=\u001b[39m_request_timeout,\n\u001b[1;32m    433\u001b[0m                                 body\u001b[39m=\u001b[39mbody)\n",
      "File \u001b[0;32m~/Work/sample-notebooks/.env/lib/python3.10/site-packages/lusid/rest.py:291\u001b[0m, in \u001b[0;36mRESTClientObject.POST\u001b[0;34m(self, url, headers, query_params, post_params, body, _preload_content, _request_timeout)\u001b[0m\n\u001b[1;32m    289\u001b[0m \u001b[39mdef\u001b[39;00m \u001b[39mPOST\u001b[39m(\u001b[39mself\u001b[39m, url, headers\u001b[39m=\u001b[39m\u001b[39mNone\u001b[39;00m, query_params\u001b[39m=\u001b[39m\u001b[39mNone\u001b[39;00m, post_params\u001b[39m=\u001b[39m\u001b[39mNone\u001b[39;00m,\n\u001b[1;32m    290\u001b[0m          body\u001b[39m=\u001b[39m\u001b[39mNone\u001b[39;00m, _preload_content\u001b[39m=\u001b[39m\u001b[39mTrue\u001b[39;00m, _request_timeout\u001b[39m=\u001b[39m\u001b[39mNone\u001b[39;00m):\n\u001b[0;32m--> 291\u001b[0m     \u001b[39mreturn\u001b[39;00m \u001b[39mself\u001b[39;49m\u001b[39m.\u001b[39;49mrequest(\u001b[39m\"\u001b[39;49m\u001b[39mPOST\u001b[39;49m\u001b[39m\"\u001b[39;49m, url,\n\u001b[1;32m    292\u001b[0m                         headers\u001b[39m=\u001b[39;49mheaders,\n\u001b[1;32m    293\u001b[0m                         query_params\u001b[39m=\u001b[39;49mquery_params,\n\u001b[1;32m    294\u001b[0m                         post_params\u001b[39m=\u001b[39;49mpost_params,\n\u001b[1;32m    295\u001b[0m                         _preload_content\u001b[39m=\u001b[39;49m_preload_content,\n\u001b[1;32m    296\u001b[0m                         _request_timeout\u001b[39m=\u001b[39;49m_request_timeout,\n\u001b[1;32m    297\u001b[0m                         body\u001b[39m=\u001b[39;49mbody)\n",
      "File \u001b[0;32m~/Work/sample-notebooks/.env/lib/python3.10/site-packages/lusid/rest.py:250\u001b[0m, in \u001b[0;36mRESTClientObject.request\u001b[0;34m(self, method, url, query_params, headers, body, post_params, _preload_content, _request_timeout)\u001b[0m\n\u001b[1;32m    247\u001b[0m     logger\u001b[39m.\u001b[39mdebug(\u001b[39m\"\u001b[39m\u001b[39mresponse body: \u001b[39m\u001b[39m%s\u001b[39;00m\u001b[39m\"\u001b[39m, r\u001b[39m.\u001b[39mdata)\n\u001b[1;32m    249\u001b[0m \u001b[39mif\u001b[39;00m \u001b[39mnot\u001b[39;00m \u001b[39m200\u001b[39m \u001b[39m<\u001b[39m\u001b[39m=\u001b[39m r\u001b[39m.\u001b[39mstatus \u001b[39m<\u001b[39m\u001b[39m=\u001b[39m \u001b[39m299\u001b[39m:\n\u001b[0;32m--> 250\u001b[0m     \u001b[39mraise\u001b[39;00m ApiException(http_resp\u001b[39m=\u001b[39mr)\n\u001b[1;32m    252\u001b[0m \u001b[39mreturn\u001b[39;00m r\n",
      "\u001b[0;31mApiException\u001b[0m: (400)\nReason: Bad Request\nHTTP response headers: HTTPHeaderDict({'Content-Type': 'application/problem+json', 'Date': 'Fri, 30 Sep 2022 15:49:12 GMT', 'Server': 'Kestrel', 'Transfer-Encoding': 'chunked', 'lusid-meta-success': 'False', 'lusid-meta-requestId': '0HML2VD5268R7:0000000D', 'lusid-meta-correlationId': '0HML2VD5268R7:0000000D', 'lusid-meta-duration': '759'})\nHTTP response body: {\"name\":\"UndefinedCurrencyFailure\",\"errorDetails\":[{\"id\":\"CreateTransactionPortfolioRequest.BaseCurrency\",\"detail\":\"Undefined currency: AUD\"}],\"code\":407,\"errors\":{\"CreateTransactionPortfolioRequest.BaseCurrency\":[\"Undefined currency: AUD\"]},\"type\":\"https://docs.lusid.com/#section/Error-Codes/407\",\"title\":\"The following currencies are undefined: AUD\",\"status\":400,\"detail\":\"Please refer to the documentation on how to define a Currency\",\"instance\":\"https://localhost.lusid.com/app/insights/logs/0HML2VD5268R7:0000000D\",\"extensions\":{}}\n"
     ]
    }
   ],
   "source": [
    "portfolio_code = str(uuid.uuid4())\n",
    "\n",
    "# The date our portfolios were first created\n",
    "portfolio_creation_date = (datetime.now(pytz.UTC) - timedelta(days=3)).isoformat()\n",
    "\n",
    "# Create the request to add our portfolio\n",
    "transaction_portfolio_request = models.CreateTransactionPortfolioRequest(\n",
    "    display_name=\"CommercialRealEstate\",\n",
    "    code=portfolio_code,\n",
    "    base_currency=\"AUD\",\n",
    "    description=\"Commercial Real Estate Assets including Shopping Centres\",\n",
    "    created=portfolio_creation_date,\n",
    ")\n",
    "\n",
    "# Call LUSID to create our portfolio\n",
    "portfolio_response = api_factory.build(\n",
    "    lusid.api.TransactionPortfoliosApi\n",
    ").create_portfolio(\n",
    "    scope=scope, create_transaction_portfolio_request=transaction_portfolio_request\n",
    ")\n",
    "\n",
    "# Pretty print the response from LUSID\n",
    "prettyprint.portfolio_response(portfolio_response)"
   ]
  },
  {
   "cell_type": "markdown",
   "metadata": {},
   "source": [
    "![Scopes](img/complexinstruments-portfolio.gif)"
   ]
  },
  {
   "cell_type": "markdown",
   "metadata": {},
   "source": [
    "Now that you have a portfolio to hold the asset, you can create a transaction. You will create a 'StockIn' transaction which moves the asset into the portfolio.\n",
    "\n",
    "*Run the cell below to create a transaction for the asset*"
   ]
  },
  {
   "cell_type": "code",
   "execution_count": null,
   "metadata": {},
   "outputs": [],
   "source": [
    "take_on_transaction = models.TransactionRequest(\n",
    "    transaction_id=\"39iw-090f9f9s\",\n",
    "    type=\"StockIn\",\n",
    "    instrument_identifiers={\"Instrument/default/LusidInstrumentId\": luid},\n",
    "    transaction_date=(datetime.now(pytz.UTC) - timedelta(days=2)).isoformat(),\n",
    "    settlement_date=datetime.now(pytz.UTC).isoformat(),\n",
    "    units=1,\n",
    "    transaction_price=models.TransactionPrice(price=18000000, type=\"Price\"),\n",
    "    total_consideration=models.CurrencyAndAmount(amount=18000000, currency=\"AUD\"),\n",
    "    source=\"Client\",\n",
    "    transaction_currency=\"AUD\",\n",
    ")\n",
    "\n",
    "# Call LUSID to upsert our transactions\n",
    "response = api_factory.build(lusid.api.TransactionPortfoliosApi).upsert_transactions(\n",
    "    scope=scope, code=portfolio_code, transaction_request=[take_on_transaction]\n",
    ")\n",
    "\n",
    "# Pretty print the response from LUSID\n",
    "prettyprint.transactions_response(response, scope, portfolio_code)"
   ]
  },
  {
   "cell_type": "markdown",
   "metadata": {},
   "source": [
    "You can now check the holdings of the portfolio to see if the asset has been added.\n",
    "\n",
    "*Run the cell below to get the holdings of the portfolio to check that the asset has been added via the StockIn transaction*"
   ]
  },
  {
   "cell_type": "code",
   "execution_count": null,
   "metadata": {},
   "outputs": [],
   "source": [
    "response = api_factory.build(lusid.api.TransactionPortfoliosApi).get_holdings(\n",
    "    scope=scope, code=portfolio_code, property_keys=[\"Instrument/default/Name\"]\n",
    ")\n",
    "\n",
    "prettyprint.holdings_response(response, scope, portfolio_code)"
   ]
  },
  {
   "cell_type": "markdown",
   "metadata": {},
   "source": [
    "Perhaps as part of the take on process of this asset, you have completed an independent valuation of it. You want to add the valuation to LUSID so that you can compare it with the cost price. You can do this using the quote store.\n",
    "\n",
    "*Run the cell below to upsert a quote for the recent independent valuation*"
   ]
  },
  {
   "cell_type": "code",
   "execution_count": null,
   "metadata": {},
   "outputs": [],
   "source": [
    "# Create a quote for the unit price of the base fund\n",
    "instrument_quote = models.UpsertQuoteRequest(\n",
    "    quote_id=models.QuoteId(\n",
    "        quote_series_id=models.QuoteSeriesId(\n",
    "            provider=\"DataScope\",\n",
    "            instrument_id=luid,\n",
    "            instrument_id_type=\"LusidInstrumentId\",\n",
    "            quote_type=\"Price\",\n",
    "            field=\"Mid\",\n",
    "        ),\n",
    "        effective_at=datetime.now(pytz.UTC).isoformat(),\n",
    "    ),\n",
    "    metric_value=models.MetricValue(value=18500000, unit=\"AUD\"),\n",
    "    lineage=\"InternalSystem\",\n",
    ")\n",
    "\n",
    "# Call LUSID to upsert the quote\n",
    "response = api_factory.build(lusid.api.QuotesApi).upsert_quotes(\n",
    "    scope=scope, request_body={\"price\": instrument_quote}\n",
    ")\n",
    "\n",
    "prettyprint.upsert_quotes_response(response)"
   ]
  },
  {
   "cell_type": "markdown",
   "metadata": {},
   "source": [
    "With this valuation stored as a quote in LUSID you can now aggregate across your portfolio to compare the cost of your asset with its current valuation. This is something that can be run manually or automated based on when the valuation is updated.\n",
    "\n",
    "*Run the cell below to perform a valuation of your portfolio to compare the cost and value of your asset*"
   ]
  },
  {
   "cell_type": "code",
   "execution_count": null,
   "metadata": {},
   "outputs": [],
   "source": [
    "recipe_code = \"market_value\"\n",
    "recipe_scope = \"private-assets\"\n",
    "\n",
    "inline_recipe = models.ConfigurationRecipe(\n",
    "    scope=recipe_scope,\n",
    "    code=recipe_code,\n",
    "    pricing=models.PricingContext(\n",
    "        options=models.PricingOptions(\n",
    "            allow_any_instruments_with_sec_uid_to_price_off_lookup=True\n",
    "        )\n",
    "    ),\n",
    "    market=models.MarketContext(\n",
    "        market_rules=[\n",
    "            models.MarketDataKeyRule(\n",
    "                key=\"Quote.LusidInstrumentId.*\",\n",
    "                supplier=\"DataScope\",\n",
    "                data_scope=scope,\n",
    "                quote_type=\"Price\",\n",
    "                field=\"Mid\",\n",
    "            ),\n",
    "            models.MarketDataKeyRule(\n",
    "                key=\"Fx.CurrencyPair.*\",\n",
    "                supplier=\"DataScope\",\n",
    "                data_scope=scope,\n",
    "                quote_type=\"Rate\",\n",
    "                field=\"Mid\",\n",
    "            ),\n",
    "        ],\n",
    "        suppliers=models.MarketContextSuppliers(\n",
    "            commodity=\"DataScope\",\n",
    "            credit=\"DataScope\",\n",
    "            equity=\"DataScope\",\n",
    "            fx=\"DataScope\",\n",
    "            rates=\"DataScope\",\n",
    "        ),\n",
    "        options=models.MarketOptions(\n",
    "            default_supplier=\"DataScope\",\n",
    "            default_instrument_code_type=\"LusidInstrumentId\",\n",
    "            default_scope=scope,\n",
    "        ),\n",
    "    ),\n",
    ")\n",
    "\n",
    "# Upsert recipe to LUSID\n",
    "upsert_recipe_request = models.UpsertRecipeRequest(configuration_recipe=inline_recipe)\n",
    "response = api_factory.build(\n",
    "    lusid.api.ConfigurationRecipeApi\n",
    ").upsert_configuration_recipe(upsert_recipe_request)\n",
    "\n",
    "# Create the valuation request\n",
    "valuation_request = models.ValuationRequest(\n",
    "    recipe_id=models.ResourceId(scope=inline_recipe.scope, code=inline_recipe.code),\n",
    "    metrics=[\n",
    "        models.AggregateSpec(key=\"Instrument/default/LusidInstrumentId\", op=\"Value\"),\n",
    "        models.AggregateSpec(key=\"Instrument/default/Name\", op=\"Value\"),\n",
    "        models.AggregateSpec(key=\"Holding/default/Units\", op=\"Sum\"),\n",
    "        models.AggregateSpec(key=\"Holding/default/Cost\", op=\"Sum\"),\n",
    "        models.AggregateSpec(key=\"Valuation/PvInReportCcy\", op=\"Sum\"),\n",
    "    ],\n",
    "    valuation_schedule=models.ValuationSchedule(effective_at=datetime.now(pytz.UTC)),\n",
    "    portfolio_entity_ids=[models.PortfolioEntityId(scope=scope, code=portfolio_code)],\n",
    "    group_by=[\"Instrument/default/LusidInstrumentId\"],\n",
    ")\n",
    "\n",
    "# Call LUSID to perform the valuation\n",
    "response = api_factory.build(lusid.api.AggregationApi).get_valuation(\n",
    "    valuation_request=valuation_request\n",
    ")\n",
    "\n",
    "# Pretty print the response\n",
    "prettyprint.aggregation_response_generic(response)"
   ]
  },
  {
   "cell_type": "markdown",
   "metadata": {},
   "source": [
    "Now you have created a bespoke instrument inside LUSID, created a custom schema to represent its important properties which can be extended to other similar assets, added it to a portfolio via a transaction and valued it."
   ]
  }
 ],
 "metadata": {
  "kernelspec": {
   "display_name": "Python 3.10.6 ('.env': venv)",
   "language": "python",
   "name": "python3"
  },
  "language_info": {
   "codemirror_mode": {
    "name": "ipython",
    "version": 3
   },
   "file_extension": ".py",
   "mimetype": "text/x-python",
   "name": "python",
   "nbconvert_exporter": "python",
   "pygments_lexer": "ipython3",
   "version": "3.10.6"
  },
  "vscode": {
   "interpreter": {
    "hash": "2631b36fd78b5e9ba2bda367fd8deaf1b7c0a55746e49610a3543f723e389a55"
   }
  }
 },
 "nbformat": 4,
 "nbformat_minor": 2
}
