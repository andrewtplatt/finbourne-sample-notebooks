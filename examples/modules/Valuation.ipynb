{
 "cells": [
  {
   "cell_type": "code",
   "execution_count": 1,
   "metadata": {},
   "outputs": [
    {
     "data": {
      "text/plain": [
       "'Valuation\\n\\nDemonstrates how to value a portfolio using a custom recipe.\\n\\nAttributes\\n----------\\nvaluation\\n'"
      ]
     },
     "execution_count": 1,
     "metadata": {},
     "output_type": "execute_result"
    }
   ],
   "source": [
    "\"\"\"Valuation\n",
    "\n",
    "Demonstrates how to value a portfolio using a custom recipe.\n",
    "\n",
    "Attributes\n",
    "----------\n",
    "valuation\n",
    "\"\"\""
   ]
  },
  {
   "cell_type": "code",
   "execution_count": 1,
   "metadata": {},
   "outputs": [],
   "source": [
    "import os\n",
    "import json\n",
    "import uuid\n",
    "import pytz\n",
    "\n",
    "from datetime import datetime\n",
    "from collections import namedtuple\n",
    "\n",
    "import lusid\n",
    "import lusid.models as models\n",
    "\n",
    "from lusidjam import RefreshingToken\n",
    "\n",
    "LUSID_INSTRUMENT_IDENTIFIER = \"Instrument/default/LusidInstrumentId\"\n",
    "\n",
    "# Authenticate our user and create our API client\n",
    "secrets_path = os.getenv(\"FBN_SECRETS_PATH\")\n",
    "\n",
    "api_factory = lusid.utilities.ApiClientFactory(\n",
    "    token=RefreshingToken(),\n",
    "    api_secrets_filename=secrets_path,\n",
    "    app_name=\"LusidJupyterNotebook\",\n",
    ")\n",
    "\n",
    "configuration_recipe_api = api_factory.build(lusid.api.ConfigurationRecipeApi)"
   ]
  },
  {
   "cell_type": "code",
   "execution_count": 2,
   "metadata": {},
   "outputs": [],
   "source": [
    "# create instruments\n",
    "\n",
    "instruments = [\n",
    "    {\"Figi\": \"BBG000C6K6G9\", \"Name\": \"VODAFONE GROUP PLC\"},\n",
    "    {\"Figi\": \"BBG000C04D57\", \"Name\": \"BARCLAYS PLC\"},\n",
    "    {\"Figi\": \"BBG000FV67Q4\", \"Name\": \"NATIONAL GRID PLC\"},\n",
    "    {\"Figi\": \"BBG000BF0KW3\", \"Name\": \"SAINSBURY (J) PLC\"},\n",
    "    {\"Figi\": \"BBG000BF4KL1\", \"Name\": \"TAYLOR WIMPEY PLC\"},\n",
    "]\n",
    "\n",
    "figis_to_create = {\n",
    "    i[\"Figi\"]: models.InstrumentDefinition(\n",
    "        name=i[\"Name\"], identifiers={\"Figi\": models.InstrumentIdValue(value=i[\"Figi\"])}\n",
    "    )\n",
    "    for i in instruments\n",
    "}\n",
    "\n",
    "upsert_response = api_factory.build(lusid.api.InstrumentsApi).upsert_instruments(\n",
    "    request_body=figis_to_create\n",
    ")\n",
    "\n",
    "if len(upsert_response.failed) != 0:\n",
    "    raise Exception(upsert_response.failed)\n",
    "\n",
    "ids = api_factory.build(lusid.api.InstrumentsApi).get_instruments(\n",
    "    identifier_type=\"Figi\", request_body=[i[\"Figi\"] for i in instruments]\n",
    ")\n",
    "\n",
    "instrument_ids = [i.lusid_instrument_id for i in ids.values.values()]"
   ]
  },
  {
   "cell_type": "code",
   "execution_count": 3,
   "metadata": {},
   "outputs": [
    {
     "name": "stdout",
     "output_type": "stream",
     "text": [
      "Could not create a portfolio with id 'valuationPortfolio' because it already exists in scope 'finbourne'.\n"
     ]
    }
   ],
   "source": [
    "def build_transaction(trade_spec):\n",
    "    return models.TransactionRequest(\n",
    "        transaction_id=str(uuid.uuid4()),\n",
    "        type=\"StockIn\",\n",
    "        instrument_identifiers={LUSID_INSTRUMENT_IDENTIFIER: trade_spec.id},\n",
    "        transaction_date=trade_spec.trade_date,\n",
    "        settlement_date=trade_spec.trade_date,\n",
    "        units=100,\n",
    "        transaction_price=models.TransactionPrice(price=trade_spec.price),\n",
    "        total_consideration=models.CurrencyAndAmount(\n",
    "            amount=100 * trade_spec.price, currency=\"GBP\"\n",
    "        ),\n",
    "        source=\"Client\",\n",
    "    )\n",
    "\n",
    "\n",
    "scope = \"finbourne\"\n",
    "portfolio_code = \"valuationPortfolio\"\n",
    "effective_date = datetime(2018, 1, 1, tzinfo=pytz.utc)\n",
    "\n",
    "request = models.CreateTransactionPortfolioRequest(\n",
    "    display_name=portfolio_code,\n",
    "    code=portfolio_code,\n",
    "    base_currency=\"GBP\",\n",
    "    created=effective_date,\n",
    ")\n",
    "\n",
    "try:\n",
    "\n",
    "    #  create the portfolio\n",
    "    result = api_factory.build(lusid.api.TransactionPortfoliosApi).create_portfolio(\n",
    "        scope=scope, create_transaction_portfolio_request=request\n",
    "    )\n",
    "\n",
    "except lusid.ApiException as e:\n",
    "    print(json.loads(e.body)[\"title\"])\n",
    "\n",
    "TransactionSpec = namedtuple(\"TransactionSpec\", \"id price trade_date\")\n",
    "transaction_specs = [\n",
    "    TransactionSpec(instrument_ids[0], 101, effective_date),\n",
    "    TransactionSpec(instrument_ids[1], 102, effective_date),\n",
    "    TransactionSpec(instrument_ids[2], 103, effective_date),\n",
    "]\n",
    "transaction_specs.sort(key=lambda ts: ts.id)\n",
    "\n",
    "new_transactions = list(map(build_transaction, transaction_specs))\n",
    "\n",
    "#   add initial batch of trades\n",
    "add_transactions_result = api_factory.build(\n",
    "    lusid.api.TransactionPortfoliosApi\n",
    ").upsert_transactions(\n",
    "    scope=scope, code=portfolio_code, transaction_request=new_transactions\n",
    ")"
   ]
  },
  {
   "cell_type": "code",
   "execution_count": 4,
   "metadata": {
    "pycharm": {
     "name": "#%%\n"
    }
   },
   "outputs": [],
   "source": [
    "# Create quote requests\n",
    "instrument_quotes = {\n",
    "    instrument_ids[i]: models.UpsertQuoteRequest(\n",
    "        quote_id=models.QuoteId(\n",
    "            quote_series_id=models.QuoteSeriesId(\n",
    "                provider=\"DataScope\",\n",
    "                instrument_id=instrument_ids[i],\n",
    "                instrument_id_type=\"LusidInstrumentId\",\n",
    "                quote_type=\"Price\",\n",
    "                field=\"Mid\",\n",
    "            ),\n",
    "            effective_at=effective_date,\n",
    "        ),\n",
    "        metric_value=models.MetricValue(value=i * 100, unit=\"GBP\"),\n",
    "        lineage=\"InternalSystem\",\n",
    "    )\n",
    "    for i in range(0, 4)\n",
    "}\n",
    "\n",
    "# Upsert the quotes into LUSID\n",
    "response = api_factory.build(lusid.api.QuotesApi).upsert_quotes(\n",
    "    scope=scope, request_body=instrument_quotes\n",
    ")"
   ]
  },
  {
   "cell_type": "code",
   "execution_count": 5,
   "metadata": {},
   "outputs": [],
   "source": [
    "# Create a recipe to perform a valuation\n",
    "recipe_scope = \"valuations\"\n",
    "recipe_code = \"market_value\"\n",
    "\n",
    "configuration_recipe = models.ConfigurationRecipe(\n",
    "    scope=recipe_scope,\n",
    "    code=recipe_code,\n",
    "    market=models.MarketContext(\n",
    "        market_rules=[\n",
    "            models.MarketDataKeyRule(\n",
    "                key=\"Quote.LusidInstrumentId.*\",\n",
    "                supplier=\"DataScope\",\n",
    "                data_scope=scope,\n",
    "                quote_type=\"Price\",\n",
    "                field=\"Mid\",\n",
    "            )\n",
    "        ],\n",
    "        suppliers=models.MarketContextSuppliers(\n",
    "            commodity=\"DataScope\",\n",
    "            credit=\"DataScope\",\n",
    "            equity=\"DataScope\",\n",
    "            fx=\"DataScope\",\n",
    "            rates=\"DataScope\",\n",
    "        ),\n",
    "        options=models.MarketOptions(\n",
    "            default_supplier=\"DataScope\",\n",
    "            default_instrument_code_type=\"LusidInstrumentId\",\n",
    "            default_scope=scope,\n",
    "        ),\n",
    "    ),\n",
    ")\n",
    "\n",
    "upsert_configuration_recipe_response = (\n",
    "    configuration_recipe_api.upsert_configuration_recipe(\n",
    "        upsert_recipe_request=models.UpsertRecipeRequest(\n",
    "            configuration_recipe=configuration_recipe\n",
    "        )\n",
    "    )\n",
    ")"
   ]
  },
  {
   "cell_type": "code",
   "execution_count": 6,
   "metadata": {},
   "outputs": [],
   "source": [
    "# Create the valuation request\n",
    "valuation_request = models.ValuationRequest(\n",
    "    recipe_id=models.ResourceId(scope=recipe_scope, code=recipe_code),\n",
    "    metrics=[\n",
    "        models.AggregateSpec(\"Instrument/default/Name\", \"Value\"),\n",
    "        models.AggregateSpec(\"Valuation/PvInReportCcy\", \"Proportion\"),\n",
    "        models.AggregateSpec(\"Valuation/PvInReportCcy\", \"Sum\"),\n",
    "    ],\n",
    "    group_by=[\"Instrument/default/Name\"],\n",
    "    portfolio_entity_ids=[\n",
    "        models.PortfolioEntityId(scope=scope, code=portfolio_code)\n",
    "    ],\n",
    "    valuation_schedule=models.ValuationSchedule(\n",
    "        effective_at=effective_date.isoformat()\n",
    "    ),\n",
    ")\n",
    "\n",
    "# Perform a valuation\n",
    "valuation = api_factory.build(lusid.api.AggregationApi).get_valuation(\n",
    "    valuation_request=valuation_request\n",
    ")"
   ]
  },
  {
   "cell_type": "code",
   "execution_count": 7,
   "metadata": {},
   "outputs": [
    {
     "name": "stdout",
     "output_type": "stream",
     "text": [
      "\tVODAFONE GROUP PLC\t0.0\t0.0\n",
      "\tNATIONAL GRID PLC\t0.3333333333333333\t30000.0\n",
      "\tBARCLAYS PLC\t0.6666666666666666\t60000.0\n"
     ]
    }
   ],
   "source": [
    "for item in valuation.data:\n",
    "    print(\n",
    "        \"\\t{}\\t{}\\t{}\".format(\n",
    "            item[\"Instrument/default/Name\"],\n",
    "            item[\"Proportion(Valuation/PvInReportCcy)\"],\n",
    "            item[\"Sum(Valuation/PvInReportCcy)\"],\n",
    "        )\n",
    "    )"
   ]
  },
  {
   "cell_type": "code",
   "execution_count": 8,
   "metadata": {},
   "outputs": [
    {
     "data": {
      "image/png": "[encoded data removed]",
      "text/plain": [
       "<Figure size 640x480 with 1 Axes>"
      ]
     },
     "metadata": {},
     "output_type": "display_data"
    }
   ],
   "source": [
    "%matplotlib inline\n",
    "import matplotlib.pyplot as plt\n",
    "\n",
    "labels = []\n",
    "values = []\n",
    "for item in valuation.data:\n",
    "    labels.append(item[\"Instrument/default/Name\"])\n",
    "    values.append(item[\"Proportion(Valuation/PvInReportCcy)\"] * 100)\n",
    "\n",
    "fig1, ax1 = plt.subplots()\n",
    "ax1.pie(values, labels=labels, autopct=\"%1.1f%%\", shadow=True, startangle=90)\n",
    "ax1.axis(\"equal\")\n",
    "\n",
    "plt.show()"
   ]
  }
 ],
 "metadata": {
  "kernelspec": {
   "display_name": "Python 3.10.6",
   "language": "python",
   "name": "python3"
  },
  "language_info": {
   "codemirror_mode": {
    "name": "ipython",
    "version": 3
   },
   "file_extension": ".py",
   "mimetype": "text/x-python",
   "name": "python",
   "nbconvert_exporter": "python",
   "pygments_lexer": "ipython3",
   "version": "3.10.6"
  }
 },
 "nbformat": 4,
 "nbformat_minor": 2
}
